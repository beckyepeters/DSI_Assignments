{
  "nbformat": 4,
  "nbformat_minor": 0,
  "metadata": {
    "colab": {
      "name": "YouTubeDataBPMFMB.ipynb",
      "provenance": [],
      "include_colab_link": true
    },
    "kernelspec": {
      "name": "python3",
      "display_name": "Python 3"
    }
  },
  "cells": [
    {
      "cell_type": "markdown",
      "metadata": {
        "id": "view-in-github",
        "colab_type": "text"
      },
      "source": [
        "<a href=\"https://colab.research.google.com/github/beckyepeters/DSI_Assignments_Repo/blob/main/YouTubeDataBPMFMB.ipynb\" target=\"_parent\"><img src=\"https://colab.research.google.com/assets/colab-badge.svg\" alt=\"Open In Colab\"/></a>"
      ]
    },
    {
      "cell_type": "markdown",
      "metadata": {
        "id": "z86y2fSLdasW"
      },
      "source": [
        "USA, GB=Great Britain, DE=Germany, CA=Canada, FR=France, RU=Russia, MX=Mexico, KR=South Korea, JP=Japan and IN=India "
      ]
    },
    {
      "cell_type": "markdown",
      "metadata": {
        "id": "FxLchQcLd7b3"
      },
      "source": [
        "Each region’s data is in a separate file. Data includes the video title, channel title, publish time, tags, views, likes and dislikes, description, and comment count."
      ]
    },
    {
      "cell_type": "markdown",
      "metadata": {
        "id": "Vc2EIM0-jkq9"
      },
      "source": [
        "Things we might be able to look for: Most popular video, comments (does number = good or bad maybe?)  time of publishing? is that relevant? What KIND of video or category is popular in each country?\n"
      ]
    }
  ]
}